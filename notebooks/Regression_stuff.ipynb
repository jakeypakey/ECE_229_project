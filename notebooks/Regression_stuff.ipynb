{
 "cells": [
  {
   "cell_type": "code",
   "execution_count": 6,
   "metadata": {},
   "outputs": [],
   "source": [
    "import numpy as np\n",
    "import pandas as pd\n",
    "import matplotlib.pyplot as plt\n",
    "import sys\n",
    "sys.path.append('../')\n",
    "from src.cleaning import getPandasNumeric"
   ]
  },
  {
   "cell_type": "code",
   "execution_count": 2,
   "metadata": {},
   "outputs": [],
   "source": [
    "df = pd.read_csv('../data/US_Accidents_Dec20.csv')\n",
    "originalSize = len(df)"
   ]
  },
  {
   "cell_type": "code",
   "execution_count": 3,
   "metadata": {
    "scrolled": true
   },
   "outputs": [],
   "source": [
    "#add deltaT\n",
    "df['Start_Time'] = pd.to_datetime(df['Start_Time'])\n",
    "df['End_Time'] = pd.to_datetime(df['End_Time'])\n",
    "df['Total_Time'] = df[\"End_Time\"] - df['Start_Time']\n",
    "\n",
    "#dropped because they are strings, redundant, or catagorical with no easy way to turn numeric\n",
    "dropCols = ['TMC','End_Time','End_Lat','End_Lng','Number','Street','City',\n",
    "            'State','Zipcode','Country','Timezone','Airport_Code','Weather_Timestamp',\n",
    "            'Wind_Direction','Weather_Condition','Description','Source','County','Turning_Loop']\n",
    "\n",
    "df = df.drop(dropCols,axis=1)\n",
    "\n",
    "#there is only one entry with this value\n",
    "df = df.drop(df[df['Side']==' '].index)\n",
    "#right and left side of road ->tonumeric\n",
    "df  = df.replace({'Side': {'R':1, 'L':0}})\n",
    "\n",
    "#drop all rows with NaN ***(~55% data lost here)***\n",
    "df = df.dropna()\n",
    "\n",
    "#all only have day and night, switch to binary\n",
    "toBin = {'Day':1, 'Night':0}\n",
    "replaceDict = {'Sunrise_Sunset':toBin,'Civil_Twilight':toBin,'Nautical_Twilight':toBin,'Astronomical_Twilight':toBin}\n",
    "df = df.replace(replaceDict)\n"
   ]
  },
  {
   "cell_type": "code",
   "execution_count": 4,
   "metadata": {},
   "outputs": [
    {
     "name": "stdout",
     "output_type": "stream",
     "text": [
      "After dropping NaN, we have 46.052099672513506 % of data left\n"
     ]
    }
   ],
   "source": [
    "print(\"After dropping NaN, we have {} % of data left\".format(100*(len(df)/originalSize)))\n",
    "df[df.select_dtypes(include='bool').columns] = df.select_dtypes(include='bool').astype('int64')"
   ]
  },
  {
   "cell_type": "code",
   "execution_count": 5,
   "metadata": {},
   "outputs": [],
   "source": [
    "sameDf = df"
   ]
  },
  {
   "cell_type": "code",
   "execution_count": null,
   "metadata": {},
   "outputs": [],
   "source": [
    "df = getPandasNumeric(pd.read_csv('../data/US_Accidents_Dec20.csv'))"
   ]
  },
  {
   "cell_type": "code",
   "execution_count": null,
   "metadata": {},
   "outputs": [],
   "source": []
  }
 ],
 "metadata": {
  "kernelspec": {
   "display_name": "Python 3",
   "language": "python",
   "name": "python3"
  },
  "language_info": {
   "codemirror_mode": {
    "name": "ipython",
    "version": 3
   },
   "file_extension": ".py",
   "mimetype": "text/x-python",
   "name": "python",
   "nbconvert_exporter": "python",
   "pygments_lexer": "ipython3",
   "version": "3.8.3"
  }
 },
 "nbformat": 4,
 "nbformat_minor": 4
}
