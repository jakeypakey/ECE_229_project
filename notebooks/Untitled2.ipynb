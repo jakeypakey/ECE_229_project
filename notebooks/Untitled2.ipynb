{
 "cells": [
  {
   "cell_type": "code",
   "execution_count": 6,
   "metadata": {},
   "outputs": [],
   "source": [
    "import pickle\n",
    "import pandas as pd\n",
    "g1  =  pickle.load(open(\"./g1.pkl\",'rb'))\n",
    "g2 = pickle.load(open(\"./g2.pkl\",'rb'))\n"
   ]
  },
  {
   "cell_type": "code",
   "execution_count": 7,
   "metadata": {},
   "outputs": [],
   "source": [
    "import plotly.graph_objects as go\n",
    "import numpy as np\n",
    "def hist_wedget(g1):\n",
    "    x_values = g1['data']\n",
    "    figure = go.FigureWidget(data=[go.Histogram(x=x_values,\n",
    "                                                nbinsx=10)],\n",
    "                             layout=go.Layout(xaxis={'range': g1['range']},\n",
    "                                              bargap=0.05))\n",
    "    histogram = figure.data[0]\n",
    "    \n",
    "\n",
    "    def adjust_histogram_data(xaxis, xrange):\n",
    "        x_values_subset = x_values[np.logical_and(xrange[0] <= x_values,\n",
    "                                                  x_values <= xrange[1])]\n",
    "        histogram.x = x_values_subset\n",
    "    figure.layout.xaxis.on_change(adjust_histogram_data, 'range')\n",
    "    figure.layout.title = g1['title']\n",
    "    figure.layout.yaxis.title.text = 'Count'\n",
    "    figure.layout.xaxis.title.text = 'Hour'\n",
    "    return figure\n"
   ]
  },
  {
   "cell_type": "code",
   "execution_count": 9,
   "metadata": {},
   "outputs": [
    {
     "data": {
      "application/vnd.jupyter.widget-view+json": {
       "model_id": "a1176c3219524a398a28ba2fe7e8d14b",
       "version_major": 2,
       "version_minor": 0
      },
      "text/plain": [
       "FigureWidget({\n",
       "    'data': [{'nbinsx': 10,\n",
       "              'type': 'histogram',\n",
       "              'uid': 'bd4bbf2d-e…"
      ]
     },
     "metadata": {},
     "output_type": "display_data"
    }
   ],
   "source": [
    "hist_wedget(g1)"
   ]
  },
  {
   "cell_type": "code",
   "execution_count": 10,
   "metadata": {},
   "outputs": [
    {
     "data": {
      "application/vnd.jupyter.widget-view+json": {
       "model_id": "91b20e2b880549e6aad9e670c23a676d",
       "version_major": 2,
       "version_minor": 0
      },
      "text/plain": [
       "FigureWidget({\n",
       "    'data': [{'nbinsx': 10,\n",
       "              'type': 'histogram',\n",
       "              'uid': '73c8109f-0…"
      ]
     },
     "metadata": {},
     "output_type": "display_data"
    }
   ],
   "source": [
    "hist_wedget(g2)"
   ]
  },
  {
   "cell_type": "code",
   "execution_count": null,
   "metadata": {},
   "outputs": [],
   "source": []
  }
 ],
 "metadata": {
  "kernelspec": {
   "display_name": "Python 3",
   "language": "python",
   "name": "python3"
  },
  "language_info": {
   "codemirror_mode": {
    "name": "ipython",
    "version": 3
   },
   "file_extension": ".py",
   "mimetype": "text/x-python",
   "name": "python",
   "nbconvert_exporter": "python",
   "pygments_lexer": "ipython3",
   "version": "3.7.6"
  }
 },
 "nbformat": 4,
 "nbformat_minor": 4
}
