{
 "cells": [
  {
   "cell_type": "code",
   "execution_count": 1,
   "metadata": {},
   "outputs": [],
   "source": [
    "import pandas as pd\n",
    "import geopandas as gpd\n",
    "import geopy\n",
    "from geopy.geocoders import Nominatim\n",
    "from geopy.extra.rate_limiter import RateLimiter"
   ]
  },
  {
   "cell_type": "code",
   "execution_count": 2,
   "metadata": {},
   "outputs": [],
   "source": [
    "locator = Nominatim(user_agent='myGeocoder')\n",
    "coordinates = [37.14573, -121.985052]\n",
    "location = locator.reverse(coordinates)\n",
    "county = location.raw['address']['county']"
   ]
  },
  {
   "cell_type": "code",
   "execution_count": 3,
   "metadata": {},
   "outputs": [
    {
     "data": {
      "text/plain": [
       "'Santa Clara County'"
      ]
     },
     "execution_count": 3,
     "metadata": {},
     "output_type": "execute_result"
    }
   ],
   "source": [
    "county"
   ]
  },
  {
   "cell_type": "code",
   "execution_count": 4,
   "metadata": {},
   "outputs": [],
   "source": [
    "fips = pd.read_csv('./fips-codes/county_fips_master.csv', encoding='latin-1')"
   ]
  },
  {
   "cell_type": "code",
   "execution_count": 5,
   "metadata": {},
   "outputs": [],
   "source": [
    "fips_n = fips.to_numpy()\n",
    "CA_fips = fips_n[fips_n[:,2] == 'CA'][:,:2]"
   ]
  },
  {
   "cell_type": "code",
   "execution_count": 6,
   "metadata": {},
   "outputs": [
    {
     "data": {
      "text/plain": [
       "array([[6001, 'Alameda County'],\n",
       "       [6003, 'Alpine County'],\n",
       "       [6005, 'Amador County'],\n",
       "       [6007, 'Butte County'],\n",
       "       [6009, 'Calaveras County'],\n",
       "       [6011, 'Colusa County'],\n",
       "       [6013, 'Contra Costa County'],\n",
       "       [6015, 'Del Norte County'],\n",
       "       [6017, 'El Dorado County'],\n",
       "       [6019, 'Fresno County'],\n",
       "       [6021, 'Glenn County'],\n",
       "       [6023, 'Humboldt County'],\n",
       "       [6025, 'Imperial County'],\n",
       "       [6027, 'Inyo County'],\n",
       "       [6029, 'Kern County'],\n",
       "       [6031, 'Kings County'],\n",
       "       [6033, 'Lake County'],\n",
       "       [6035, 'Lassen County'],\n",
       "       [6037, 'Los Angeles County'],\n",
       "       [6039, 'Madera County'],\n",
       "       [6041, 'Marin County'],\n",
       "       [6043, 'Mariposa County'],\n",
       "       [6045, 'Mendocino County'],\n",
       "       [6047, 'Merced County'],\n",
       "       [6049, 'Modoc County'],\n",
       "       [6051, 'Mono County'],\n",
       "       [6053, 'Monterey County'],\n",
       "       [6055, 'Napa County'],\n",
       "       [6057, 'Nevada County'],\n",
       "       [6059, 'Orange County'],\n",
       "       [6061, 'Placer County'],\n",
       "       [6063, 'Plumas County'],\n",
       "       [6065, 'Riverside County'],\n",
       "       [6067, 'Sacramento County'],\n",
       "       [6069, 'San Benito County'],\n",
       "       [6071, 'San Bernardino County'],\n",
       "       [6073, 'San Diego County'],\n",
       "       [6075, 'San Francisco County'],\n",
       "       [6077, 'San Joaquin County'],\n",
       "       [6079, 'San Luis Obispo County'],\n",
       "       [6081, 'San Mateo County'],\n",
       "       [6083, 'Santa Barbara County'],\n",
       "       [6085, 'Santa Clara County'],\n",
       "       [6087, 'Santa Cruz County'],\n",
       "       [6089, 'Shasta County'],\n",
       "       [6091, 'Sierra County'],\n",
       "       [6093, 'Siskiyou County'],\n",
       "       [6095, 'Solano County'],\n",
       "       [6097, 'Sonoma County'],\n",
       "       [6099, 'Stanislaus County'],\n",
       "       [6101, 'Sutter County'],\n",
       "       [6103, 'Tehama County'],\n",
       "       [6105, 'Trinity County'],\n",
       "       [6107, 'Tulare County'],\n",
       "       [6109, 'Tuolumne County'],\n",
       "       [6111, 'Ventura County'],\n",
       "       [6113, 'Yolo County'],\n",
       "       [6115, 'Yuba County']], dtype=object)"
      ]
     },
     "execution_count": 6,
     "metadata": {},
     "output_type": "execute_result"
    }
   ],
   "source": [
    "CA_fips"
   ]
  },
  {
   "cell_type": "code",
   "execution_count": null,
   "metadata": {},
   "outputs": [],
   "source": []
  }
 ],
 "metadata": {
  "kernelspec": {
   "display_name": "Python 3",
   "language": "python",
   "name": "python3"
  },
  "language_info": {
   "codemirror_mode": {
    "name": "ipython",
    "version": 3
   },
   "file_extension": ".py",
   "mimetype": "text/x-python",
   "name": "python",
   "nbconvert_exporter": "python",
   "pygments_lexer": "ipython3",
   "version": "3.7.10"
  }
 },
 "nbformat": 4,
 "nbformat_minor": 2
}
