{
 "cells": [
  {
   "cell_type": "code",
   "execution_count": 22,
   "id": "advance-jumping",
   "metadata": {},
   "outputs": [],
   "source": [
    "import pandas as pd\n",
    "import numpy as np\n",
    "import copy"
   ]
  },
  {
   "cell_type": "code",
   "execution_count": 4,
   "id": "secondary-bankruptcy",
   "metadata": {},
   "outputs": [],
   "source": [
    "filename = './archive/US_Accidents_Dec20.csv'\n",
    "data = pd.read_csv(filename,usecols = ['ID','Start_Time','Weather_Condition'])"
   ]
  },
  {
   "cell_type": "code",
   "execution_count": 25,
   "id": "minimal-karaoke",
   "metadata": {},
   "outputs": [
    {
     "data": {
      "text/html": [
       "<div>\n",
       "<style scoped>\n",
       "    .dataframe tbody tr th:only-of-type {\n",
       "        vertical-align: middle;\n",
       "    }\n",
       "\n",
       "    .dataframe tbody tr th {\n",
       "        vertical-align: top;\n",
       "    }\n",
       "\n",
       "    .dataframe thead th {\n",
       "        text-align: right;\n",
       "    }\n",
       "</style>\n",
       "<table border=\"1\" class=\"dataframe\">\n",
       "  <thead>\n",
       "    <tr style=\"text-align: right;\">\n",
       "      <th></th>\n",
       "      <th>ID</th>\n",
       "      <th>Start_Time</th>\n",
       "      <th>Weather_Condition</th>\n",
       "    </tr>\n",
       "  </thead>\n",
       "  <tbody>\n",
       "    <tr>\n",
       "      <th>0</th>\n",
       "      <td>A-1</td>\n",
       "      <td>2016-02-08 05:46:00</td>\n",
       "      <td>Light Rain</td>\n",
       "    </tr>\n",
       "    <tr>\n",
       "      <th>1</th>\n",
       "      <td>A-2</td>\n",
       "      <td>2016-02-08 06:07:59</td>\n",
       "      <td>Light Rain</td>\n",
       "    </tr>\n",
       "    <tr>\n",
       "      <th>2</th>\n",
       "      <td>A-3</td>\n",
       "      <td>2016-02-08 06:49:27</td>\n",
       "      <td>Overcast</td>\n",
       "    </tr>\n",
       "    <tr>\n",
       "      <th>3</th>\n",
       "      <td>A-4</td>\n",
       "      <td>2016-02-08 07:23:34</td>\n",
       "      <td>Mostly Cloudy</td>\n",
       "    </tr>\n",
       "    <tr>\n",
       "      <th>4</th>\n",
       "      <td>A-5</td>\n",
       "      <td>2016-02-08 07:39:07</td>\n",
       "      <td>Mostly Cloudy</td>\n",
       "    </tr>\n",
       "    <tr>\n",
       "      <th>...</th>\n",
       "      <td>...</td>\n",
       "      <td>...</td>\n",
       "      <td>...</td>\n",
       "    </tr>\n",
       "    <tr>\n",
       "      <th>4232536</th>\n",
       "      <td>A-4239402</td>\n",
       "      <td>2019-08-23 18:03:25</td>\n",
       "      <td>Fair</td>\n",
       "    </tr>\n",
       "    <tr>\n",
       "      <th>4232537</th>\n",
       "      <td>A-4239403</td>\n",
       "      <td>2019-08-23 19:11:30</td>\n",
       "      <td>Fair</td>\n",
       "    </tr>\n",
       "    <tr>\n",
       "      <th>4232538</th>\n",
       "      <td>A-4239404</td>\n",
       "      <td>2019-08-23 19:00:21</td>\n",
       "      <td>Partly Cloudy</td>\n",
       "    </tr>\n",
       "    <tr>\n",
       "      <th>4232539</th>\n",
       "      <td>A-4239405</td>\n",
       "      <td>2019-08-23 19:00:21</td>\n",
       "      <td>Fair</td>\n",
       "    </tr>\n",
       "    <tr>\n",
       "      <th>4232540</th>\n",
       "      <td>A-4239406</td>\n",
       "      <td>2019-08-23 18:52:06</td>\n",
       "      <td>Fair</td>\n",
       "    </tr>\n",
       "  </tbody>\n",
       "</table>\n",
       "<p>4232541 rows × 3 columns</p>\n",
       "</div>"
      ],
      "text/plain": [
       "                ID           Start_Time Weather_Condition\n",
       "0              A-1  2016-02-08 05:46:00        Light Rain\n",
       "1              A-2  2016-02-08 06:07:59        Light Rain\n",
       "2              A-3  2016-02-08 06:49:27          Overcast\n",
       "3              A-4  2016-02-08 07:23:34     Mostly Cloudy\n",
       "4              A-5  2016-02-08 07:39:07     Mostly Cloudy\n",
       "...            ...                  ...               ...\n",
       "4232536  A-4239402  2019-08-23 18:03:25              Fair\n",
       "4232537  A-4239403  2019-08-23 19:11:30              Fair\n",
       "4232538  A-4239404  2019-08-23 19:00:21     Partly Cloudy\n",
       "4232539  A-4239405  2019-08-23 19:00:21              Fair\n",
       "4232540  A-4239406  2019-08-23 18:52:06              Fair\n",
       "\n",
       "[4232541 rows x 3 columns]"
      ]
     },
     "execution_count": 25,
     "metadata": {},
     "output_type": "execute_result"
    }
   ],
   "source": [
    "data"
   ]
  },
  {
   "cell_type": "code",
   "execution_count": 92,
   "id": "quiet-produce",
   "metadata": {},
   "outputs": [],
   "source": [
    "def fill_chart(time_of_day,tod_name,df,prob = False):\n",
    "    weather_types = list(df.columns)\n",
    "    for weather in weather_types:\n",
    "        if prob:\n",
    "            df.loc[tod_name][weather] = time_of_day[time_of_day.Weather_Condition == weather].shape[0]/\\\n",
    "                                            time_of_day.shape[0]\n",
    "        else:    \n",
    "            df.loc[tod_name][weather] = time_of_day[time_of_day.Weather_Condition == weather].shape[0]\n",
    "    return df"
   ]
  },
  {
   "cell_type": "code",
   "execution_count": 93,
   "id": "spiritual-wellington",
   "metadata": {},
   "outputs": [],
   "source": [
    "res = 1\n",
    "timestamps = []\n",
    "for i in range(0,len(data),res):\n",
    "    #print(data['Start_Time'][i])\n",
    "    timestamps.append(data['Start_Time'][i].split()[1])\n",
    "#timestamps"
   ]
  },
  {
   "cell_type": "code",
   "execution_count": null,
   "id": "backed-detector",
   "metadata": {},
   "outputs": [],
   "source": [
    "col_names = ['ID','Timestamp','Weather_Condition']\n",
    "day = pd.DataFrame(columns = ['ID','Timestamp','Weather_Condition'])\n",
    "noon = pd.DataFrame(columns = ['ID','Timestamp','Weather_Condition'])\n",
    "night = pd.DataFrame(columns = ['ID','Timestamp','Weather_Condition'])\n",
    "\n",
    "row_num = np.arange(0,len(timestamps),res)\n",
    "for row,time in zip(row_num,timestamps):\n",
    "    hour = int(time.split(':')[0])\n",
    "    append_data = pd.Series([data.iloc[row]['ID'],time,data.iloc[row]['Weather_Condition']],\\\n",
    "                            index =  ['ID','Timestamp','Weather_Condition'])\n",
    "    if hour >= 6 and hour <= 11:\n",
    "        day = day.append(append_data,ignore_index=True)\n",
    "    elif hour >= 12 and hour <= 17:\n",
    "        noon = noon.append(append_data,ignore_index=True)\n",
    "    else:\n",
    "        night = night.append(append_data,ignore_index=True)"
   ]
  },
  {
   "cell_type": "code",
   "execution_count": null,
   "id": "boring-atlanta",
   "metadata": {},
   "outputs": [],
   "source": [
    "columns = list(set(data.Weather_Condition))[1:]\n",
    "index = ['Day','Noon','Night']\n",
    "df = pd.DataFrame(columns = columns, index = index)\n",
    "df = fill_chart(day,'Day',df,prob = True)\n",
    "df = fill_chart(noon,'Noon',df,prob = True)\n",
    "df = fill_chart(night,'Night',df,prob = True)\n",
    "df"
   ]
  },
  {
   "cell_type": "code",
   "execution_count": 89,
   "id": "weird-momentum",
   "metadata": {},
   "outputs": [
    {
     "data": {
      "text/plain": [
       "(716, 3)"
      ]
     },
     "execution_count": 89,
     "metadata": {},
     "output_type": "execute_result"
    }
   ],
   "source": [
    "day.shape"
   ]
  },
  {
   "cell_type": "code",
   "execution_count": 77,
   "id": "armed-tokyo",
   "metadata": {},
   "outputs": [
    {
     "data": {
      "text/plain": [
       "(3, 131)"
      ]
     },
     "execution_count": 77,
     "metadata": {},
     "output_type": "execute_result"
    }
   ],
   "source": [
    "df.shape"
   ]
  },
  {
   "cell_type": "code",
   "execution_count": null,
   "id": "turkish-warning",
   "metadata": {},
   "outputs": [],
   "source": [
    "day[day.Weather_Condition == 'Clear'].shape[0]\n"
   ]
  },
  {
   "cell_type": "code",
   "execution_count": null,
   "id": "hourly-chinese",
   "metadata": {},
   "outputs": [],
   "source": [
    "sort weather by time, where day is 6am to 12pm, noon is 12pm to 6pm, night is 6pm to 6am\n",
    "count number of accidents that occur within these time frames given the weather condition\n",
    "for now, visualize by charting data"
   ]
  }
 ],
 "metadata": {
  "kernelspec": {
   "display_name": "Python 3",
   "language": "python",
   "name": "python3"
  },
  "language_info": {
   "codemirror_mode": {
    "name": "ipython",
    "version": 3
   },
   "file_extension": ".py",
   "mimetype": "text/x-python",
   "name": "python",
   "nbconvert_exporter": "python",
   "pygments_lexer": "ipython3",
   "version": "3.7.10"
  }
 },
 "nbformat": 4,
 "nbformat_minor": 5
}
